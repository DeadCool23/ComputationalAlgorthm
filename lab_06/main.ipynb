{
 "cells": [
  {
   "cell_type": "markdown",
   "metadata": {},
   "source": [
    "# Численное дифференцирование и интегрирование\n",
    "---"
   ]
  },
  {
   "cell_type": "markdown",
   "metadata": {},
   "source": [
    "# Библиотеки"
   ]
  },
  {
   "cell_type": "code",
   "execution_count": 2,
   "metadata": {},
   "outputs": [],
   "source": [
    "import pandas as pd\n",
    "from src.derivative import *\n",
    "from src.data_convertor import read_data\n",
    "from src.integration import G, integrate_region, integrate_simpson, integrate_gauss, table_fn"
   ]
  },
  {
   "cell_type": "markdown",
   "metadata": {},
   "source": [
    "# Интегрирование"
   ]
  },
  {
   "cell_type": "code",
   "execution_count": 3,
   "metadata": {},
   "outputs": [
    {
     "name": "stdout",
     "output_type": "stream",
     "text": [
      "Без выравнивания переменных: 0.5765786750009901\n",
      "С выравниванием переменных 0.5765722540048253\n"
     ]
    }
   ],
   "source": [
    "x, y, z = read_data('./data/data.txt')\n",
    "\n",
    "g_points = [(x_, y_) for y_ in y for x_ in x if G(x_, y_)]\n",
    "\n",
    "g_dict = dict(zip(g_points, [table_fn(x, y, z, *p, use_eta=False) for p in g_points]))\n",
    "result = integrate_region(integrate_simpson, integrate_gauss, g_dict, use_eta=False)\n",
    "\n",
    "print(\"Без выравнивания переменных:\", result)\n",
    "\n",
    "g_dict_eta = dict(zip(g_points, [table_fn(x, y, z, *p) for p in g_points]))\n",
    "result_eta = integrate_region(integrate_simpson, integrate_gauss, g_dict_eta)\n",
    "\n",
    "print(\"С выравниванием переменных\", result_eta)"
   ]
  },
  {
   "cell_type": "markdown",
   "metadata": {},
   "source": [
    "# Дифференцирование"
   ]
  },
  {
   "cell_type": "code",
   "execution_count": 17,
   "metadata": {},
   "outputs": [
    {
     "name": "stdout",
     "output_type": "stream",
     "text": [
      "   X  Y      1 (Left)  2 (Center)  3 (LRunge)  3 (CRunge)  5 (Align. vars)  6 (Second der.)\n",
      "0  1  0.571  0.318        NaN           NaN        NaN     0.408499           NaN          \n",
      "1  2  0.889  0.202     0.2600      0.337333        NaN     0.246899        -0.116          \n",
      "2  3  1.091  0.140     0.1710      0.212333    0.16450     0.165437        -0.062          \n",
      "3  4  1.231  0.102     0.1210      0.146333    0.11775     0.117744        -0.038          \n",
      "4  5  1.333  0.079     0.0905      0.105833        NaN     0.089496        -0.023          \n",
      "5  6  1.412    NaN        NaN           NaN        NaN          NaN           NaN          \n"
     ]
    }
   ],
   "source": [
    "x = [1, 2, 3, 4, 5, 6]\n",
    "y = [0.571, 0.889, 1.091, 1.231, 1.333, 1.412]\n",
    "\n",
    "one = [get_left_derivative(y[i], y[i + 1]) for i in range(len(y) - 1)] + [None]\n",
    "\n",
    "two = [None] + [get_center_derivative(y[i - 1], y[i + 1]) for i in range(1, len(y) - 1)] + [None]\n",
    "\n",
    "three = [None] + \\\n",
    "        [get_second_runge_formula_derivative(y[i - 1], y[i], y[i + 1]) for i in range(1, len(y) - 1)] + \\\n",
    "        [None]\n",
    "\n",
    "four = [None, None] + \\\n",
    "       [get_center_runge_formula_derivative(y[i - 2], y[i - 1], y[i + 1] ,y[i + 2]) for i in range(2, len(y) - 2)] + \\\n",
    "       [None, None]\n",
    "\n",
    "five = [get_alignment_variables_derivative(y[i], y[i+1], x[i], x[i+1]) for i in range(len(y) - 1)] + [None]\n",
    "\n",
    "six = [None] + [get_second_derivative(y[i - 1], y[i], y[i + 1]) for i in range(1, len(y) - 1)] + [None]\n",
    "\n",
    "results = {\n",
    "    'X': x,\n",
    "    'Y': y,\n",
    "    '1 (Left)': one,\n",
    "    '2 (Center)': two,\n",
    "    '3 (LRunge)': three,\n",
    "    '3 (CRunge)': four,\n",
    "    '5 (Align. vars)': five,\n",
    "    '6 (Second der.)': six\n",
    "}\n",
    "\n",
    "pd.set_option('display.max_columns', None)  # Show all columns\n",
    "df = pd.DataFrame(results).reset_index(drop=True)\n",
    "\n",
    "print(df)"
   ]
  }
 ],
 "metadata": {
  "kernelspec": {
   "display_name": "Python 3",
   "language": "python",
   "name": "python3"
  },
  "language_info": {
   "codemirror_mode": {
    "name": "ipython",
    "version": 3
   },
   "file_extension": ".py",
   "mimetype": "text/x-python",
   "name": "python",
   "nbconvert_exporter": "python",
   "pygments_lexer": "ipython3",
   "version": "3.10.11"
  }
 },
 "nbformat": 4,
 "nbformat_minor": 2
}
